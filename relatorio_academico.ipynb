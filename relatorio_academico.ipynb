{
  "nbformat": 4,
  "nbformat_minor": 0,
  "metadata": {
    "colab": {
      "provenance": [],
      "include_colab_link": true
    },
    "kernelspec": {
      "name": "python3",
      "display_name": "Python 3"
    },
    "language_info": {
      "name": "python"
    }
  },
  "cells": [
    {
      "cell_type": "markdown",
      "metadata": {
        "id": "view-in-github",
        "colab_type": "text"
      },
      "source": [
        "<a href=\"https://colab.research.google.com/github/anawag/pandas-numpy/blob/main/relatorio_academico.ipynb\" target=\"_parent\"><img src=\"https://colab.research.google.com/assets/colab-badge.svg\" alt=\"Open In Colab\"/></a>"
      ]
    },
    {
      "cell_type": "code",
      "execution_count": 2,
      "metadata": {
        "id": "WXPdPJBImdSP"
      },
      "outputs": [],
      "source": [
        "import pandas as pd\n",
        "\n",
        "alunos = pd.read_csv(\"/content/relatorio_academico/alunos_realista.csv\")\n",
        "escolas = pd.read_csv(\"/content/relatorio_academico/escolas_realista.csv\")\n",
        "habitos = pd.read_csv(\"/content/relatorio_academico/habitos_estudo_realista.csv\")\n",
        "rendimento = pd.read_csv(\"/content/relatorio_academico/rendimento_academico_realista.csv\")"
      ]
    },
    {
      "cell_type": "code",
      "source": [
        "print(alunos.head(7))\n",
        "print(escolas.head(4))\n",
        "print(habitos.head(5))\n",
        "print(rendimento.head(5))\n"
      ],
      "metadata": {
        "colab": {
          "base_uri": "https://localhost:8080/"
        },
        "id": "83CHpVcPspm2",
        "outputId": "800d360a-27f7-43dc-a7ad-d3be7dfb08ef"
      },
      "execution_count": 3,
      "outputs": [
        {
          "output_type": "stream",
          "name": "stdout",
          "text": [
            "   ID_Aluno               Nome Data_Nascimento     Genero  ID_Escola\n",
            "0      1001  Bernardo Oliveira      2010-10-26  Masculino          7\n",
            "1      1002   Benjamin Martins      2011-09-28  Masculino          1\n",
            "2      1003        Gael Santos      2010-07-20  Masculino          4\n",
            "3      1004        Elisa Costa      2010-06-04   Feminino          1\n",
            "4      1005        Lívia Lopes      2009-06-17   Feminino          8\n",
            "5      1006     Rafael Pereira      2010-01-06  Masculino          8\n",
            "6      1007   Matheus Ferreira      2011-10-08  Masculino          4\n",
            "   ID_Escola                Nome_Escola Tipo_Escola Localizacao\n",
            "0          1              Colégio Lopes     Pública      Urbana\n",
            "1          2              Colégio Lopes  Conveniada      Urbana\n",
            "2          3  Centro Educacional Vieira  Conveniada       Rural\n",
            "3          4              Escola Vieira     Pública      Urbana\n",
            "   ID_Aluno  Horas_Estudo_Diario  Tempo_Midias_Sociais_Minutos  \\\n",
            "0      1001                  4.7                         252.0   \n",
            "1      1002                  0.7                         174.0   \n",
            "2      1003                  2.4                           NaN   \n",
            "3      1004                  4.0                         361.0   \n",
            "4      1005                  1.4                          93.0   \n",
            "\n",
            "  Atividade_Extra  Faltas_Anuais  \n",
            "0             NaN           31.0  \n",
            "1          Música            NaN  \n",
            "2         Nenhuma           19.0  \n",
            "3           Artes           47.0  \n",
            "4          Teatro           29.0  \n",
            "   ID_Rendimento  ID_Aluno  Disciplina  Nota_Final\n",
            "0              1      1001  Matemática         6.8\n",
            "1              2      1001   Português         5.9\n",
            "2              3      1001    Ciências         8.1\n",
            "3              4      1001    História         8.1\n",
            "4              5      1001   Geografia         6.8\n"
          ]
        }
      ]
    }
  ]
}